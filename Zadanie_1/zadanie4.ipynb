{
 "cells": [
  {
   "cell_type": "markdown",
   "metadata": {},
   "source": [
    "# Params"
   ]
  },
  {
   "cell_type": "code",
   "execution_count": 41,
   "metadata": {},
   "outputs": [],
   "source": [
    "import torch\n",
    "\n",
    "device = torch.device('cuda' if torch.cuda.is_available() else 'cpu')\n",
    "\n",
    "num_epochs = 2\n",
    "batch_size = 32 \n"
   ]
  },
  {
   "cell_type": "markdown",
   "metadata": {},
   "source": [
    "# Data loading"
   ]
  },
  {
   "cell_type": "code",
   "execution_count": 42,
   "metadata": {},
   "outputs": [],
   "source": [
    "import os\n",
    "import numpy as np\n",
    "from PIL import Image\n",
    "from torchvision import transforms\n",
    "\n",
    "# Convert YOLO format to Fast R-CNN format\n",
    "def yolo_to_fast_rcnn(yolo_box, img_width, img_height):\n",
    "    x_center, y_center, width, height = yolo_box\n",
    "    x_min = x_center - (width / 2)\n",
    "    y_min = y_center - (height / 2)\n",
    "    x_max = x_center + (width / 2)\n",
    "    y_max = y_center + (height / 2)\n",
    "    return [x_min, y_min, x_max, y_max]\n",
    "\n",
    "# Updated function to read label files in YOLO format\n",
    "def read_yolo_label(label_path):\n",
    "    with open(label_path, 'r') as file:\n",
    "        lines = file.readlines()\n",
    "        class_label = int(lines[0].split()[0])  # Extract class label from the first line\n",
    "        yolo_box = [float(val) for val in lines[0].split()[1:]]  # Extract YOLO bounding box data\n",
    "        return class_label, yolo_box\n",
    "\n",
    "data_folder = 'data_zadanie4'  # Replace 'data_zadanie4' with your actual path\n",
    "\n",
    "images_folder = os.path.join(data_folder, 'images')\n",
    "labels_folder = os.path.join(data_folder, 'labels')\n",
    "\n",
    "dataset = []\n",
    "\n",
    "image_files = sorted(os.listdir(images_folder))\n",
    "label_files = sorted(os.listdir(labels_folder))\n",
    "\n",
    "transform = transforms.Compose([\n",
    "    transforms.Grayscale(num_output_channels=3),  # Convert to RGB if grayscale\n",
    "    transforms.Resize((224, 224)),  # Resize the image to 224x224\n",
    "    transforms.ToTensor()  # Convert to tensor\n",
    "])\n",
    "\n",
    "# Iterate through image and label files\n",
    "for img_file, label_file in zip(image_files, label_files):\n",
    "    if img_file.endswith('.jpg') and label_file.endswith('.txt'):\n",
    "        img_path = os.path.join(images_folder, img_file)\n",
    "        label_path = os.path.join(labels_folder, label_file)\n",
    "\n",
    "        # Load image using PIL\n",
    "        image = Image.open(img_path)\n",
    "        img_width, img_height = image.size\n",
    "\n",
    "        # Convert YOLO format to Fast R-CNN format\n",
    "        class_label, yolo_box = read_yolo_label(label_path)\n",
    "        fast_rcnn_box = yolo_to_fast_rcnn(yolo_box, img_width, img_height)\n",
    "\n",
    "        # Resize image to 224x224 and convert to PyTorch tensor\n",
    "        resized_image = transform(image)\n",
    "\n",
    "        # Create targets for Fast R-CNN\n",
    "        target = {\n",
    "            'boxes': torch.tensor([fast_rcnn_box], dtype=torch.float32),  # Convert box to tensor\n",
    "            'labels': torch.tensor([class_label], dtype=torch.int64)  # Convert label to tensor\n",
    "        }\n",
    "\n",
    "        # Append resized image tensor and target dictionary to the dataset\n",
    "        dataset.append((resized_image, target))\n",
    "\n",
    "\n",
    "# for i in range(len(dataset)):\n",
    "#     image, target = dataset[i]\n",
    "#     print(f\"{i}. Image shape: {image.shape}, Target information: {target}\")"
   ]
  },
  {
   "cell_type": "markdown",
   "metadata": {},
   "source": [
    "# Dataloaders"
   ]
  },
  {
   "cell_type": "code",
   "execution_count": 52,
   "metadata": {},
   "outputs": [
    {
     "name": "stdout",
     "output_type": "stream",
     "text": [
      "Batch Image Shape: torch.Size([32, 3, 224, 224])\n",
      "Target boxes Shape: torch.Size([32, 1, 4])\n",
      "Target labels Shape: torch.Size([32, 1])\n",
      "Batch Image Shape: torch.Size([32, 3, 224, 224])\n",
      "Target boxes Shape: torch.Size([32, 1, 4])\n",
      "Target labels Shape: torch.Size([32, 1])\n",
      "Batch Image Shape: torch.Size([32, 3, 224, 224])\n",
      "Target boxes Shape: torch.Size([32, 1, 4])\n",
      "Target labels Shape: torch.Size([32, 1])\n",
      "Batch Image Shape: torch.Size([32, 3, 224, 224])\n",
      "Target boxes Shape: torch.Size([32, 1, 4])\n",
      "Target labels Shape: torch.Size([32, 1])\n",
      "Batch Image Shape: torch.Size([32, 3, 224, 224])\n",
      "Target boxes Shape: torch.Size([32, 1, 4])\n",
      "Target labels Shape: torch.Size([32, 1])\n",
      "Batch Image Shape: torch.Size([32, 3, 224, 224])\n",
      "Target boxes Shape: torch.Size([32, 1, 4])\n",
      "Target labels Shape: torch.Size([32, 1])\n",
      "Batch Image Shape: torch.Size([32, 3, 224, 224])\n",
      "Target boxes Shape: torch.Size([32, 1, 4])\n",
      "Target labels Shape: torch.Size([32, 1])\n",
      "Batch Image Shape: torch.Size([32, 3, 224, 224])\n",
      "Target boxes Shape: torch.Size([32, 1, 4])\n",
      "Target labels Shape: torch.Size([32, 1])\n",
      "Batch Image Shape: torch.Size([32, 3, 224, 224])\n",
      "Target boxes Shape: torch.Size([32, 1, 4])\n",
      "Target labels Shape: torch.Size([32, 1])\n",
      "Batch Image Shape: torch.Size([12, 3, 224, 224])\n",
      "Target boxes Shape: torch.Size([12, 1, 4])\n",
      "Target labels Shape: torch.Size([12, 1])\n"
     ]
    }
   ],
   "source": [
    "import torch\n",
    "from torchvision import transforms, models\n",
    "from torch.utils.data import Dataset, DataLoader\n",
    "from sklearn.model_selection import train_test_split\n",
    "from torchvision.io.image import read_image\n",
    "from torchvision.transforms.functional import to_tensor\n",
    "import torch.nn as nn\n",
    "from torch.utils.data import Subset, DataLoader\n",
    "\n",
    "class CustomDataset(Dataset):\n",
    "    def __init__(self, dataset):\n",
    "        self.data = dataset\n",
    "\n",
    "    def __len__(self):\n",
    "        return len(self.data)\n",
    "\n",
    "    def __getitem__(self, idx):\n",
    "        image, target = self.data[idx]\n",
    "        \n",
    "        if 'boxes' in target and 'labels' in target:\n",
    "            boxes = target['boxes']\n",
    "            labels = target['labels']\n",
    "            \n",
    "            # Create a dictionary containing boxes and labels tensors\n",
    "            target_dict = {\n",
    "                'boxes': boxes,\n",
    "                'labels': labels\n",
    "            }\n",
    "        \n",
    "        return image, target_dict\n",
    "\n",
    "custom_dataset = CustomDataset(dataset)\n",
    "\n",
    "# Split the indices for training and testing\n",
    "train_indices = list(range(300))  # Assuming 300 samples for training\n",
    "test_indices = list(range(300, 400))  # Assuming 100 samples for testing\n",
    "\n",
    "# Create Subset datasets for training and testing\n",
    "train_dataset = Subset(custom_dataset, train_indices)\n",
    "test_dataset = Subset(custom_dataset, test_indices)\n",
    "\n",
    "# # Create DataLoaders for training and testing\n",
    "train_loader = DataLoader(train_dataset, batch_size=batch_size, shuffle=True)\n",
    "test_loader = DataLoader(test_dataset, batch_size=batch_size, shuffle=False)\n",
    "\n",
    "for batch in train_loader:\n",
    "    images, targets = batch\n",
    "    print(f\"Batch Image Shape: {images.shape}\")\n",
    "    for key, value in targets.items():\n",
    "        print(f\"Target {key} Shape: {value.shape}\")\n",
    "\n",
    "\n"
   ]
  },
  {
   "cell_type": "markdown",
   "metadata": {},
   "source": [
    "# Model"
   ]
  },
  {
   "cell_type": "code",
   "execution_count": 44,
   "metadata": {},
   "outputs": [],
   "source": [
    "import torch.optim as optim\n",
    "import torchvision\n",
    "from torchvision.models.detection import fasterrcnn_resnet50_fpn\n",
    "from torchvision.models.detection import FasterRCNN\n",
    "from torchvision.models.detection.rpn import AnchorGenerator\n",
    "\n",
    "\n",
    "# Define the model\n",
    "model = torchvision.models.detection.fasterrcnn_resnet50_fpn(pretrained=False)\n",
    "model.train()\n",
    "\n",
    "# Define optimizer and loss function (you may need to customize this)\n",
    "optimizer = optim.SGD(model.parameters(), lr=0.005, momentum=0.9)\n",
    "criterion = nn.CrossEntropyLoss()"
   ]
  },
  {
   "cell_type": "markdown",
   "metadata": {},
   "source": [
    "# Training"
   ]
  },
  {
   "cell_type": "code",
   "execution_count": 78,
   "metadata": {},
   "outputs": [
    {
     "name": "stdout",
     "output_type": "stream",
     "text": [
      "Data [Batch/10]\n",
      "Type of targets: <class 'dict'>\n",
      "Length of targets: 2\n",
      "Targets is a dictionary\n",
      "Target boxes Shape: torch.Size([32, 1, 4])\n",
      "Target labels Shape: torch.Size([32, 1])\n"
     ]
    },
    {
     "ename": "AttributeError",
     "evalue": "'str' object has no attribute 'items'",
     "output_type": "error",
     "traceback": [
      "\u001b[0;31m---------------------------------------------------------------------------\u001b[0m",
      "\u001b[0;31mAttributeError\u001b[0m                            Traceback (most recent call last)",
      "\u001b[1;32m/home/matus/HNS/Zadanie_1/zadanie4.ipynb Cell 10\u001b[0m line \u001b[0;36m1\n\u001b[1;32m     <a href='vscode-notebook-cell:/home/matus/HNS/Zadanie_1/zadanie4.ipynb#X25sZmlsZQ%3D%3D?line=12'>13</a>\u001b[0m         \u001b[39mprint\u001b[39m(\u001b[39mf\u001b[39m\u001b[39m\"\u001b[39m\u001b[39mTarget \u001b[39m\u001b[39m{\u001b[39;00mkey\u001b[39m}\u001b[39;00m\u001b[39m Shape: \u001b[39m\u001b[39m{\u001b[39;00mvalue\u001b[39m.\u001b[39mshape\u001b[39m}\u001b[39;00m\u001b[39m\"\u001b[39m)\n\u001b[1;32m     <a href='vscode-notebook-cell:/home/matus/HNS/Zadanie_1/zadanie4.ipynb#X25sZmlsZQ%3D%3D?line=14'>15</a>\u001b[0m optimizer\u001b[39m.\u001b[39mzero_grad()\n\u001b[0;32m---> <a href='vscode-notebook-cell:/home/matus/HNS/Zadanie_1/zadanie4.ipynb#X25sZmlsZQ%3D%3D?line=15'>16</a>\u001b[0m output \u001b[39m=\u001b[39m model(images, targets)\n\u001b[1;32m     <a href='vscode-notebook-cell:/home/matus/HNS/Zadanie_1/zadanie4.ipynb#X25sZmlsZQ%3D%3D?line=17'>18</a>\u001b[0m \u001b[39m# Backpropagation and optimization\u001b[39;00m\n\u001b[1;32m     <a href='vscode-notebook-cell:/home/matus/HNS/Zadanie_1/zadanie4.ipynb#X25sZmlsZQ%3D%3D?line=18'>19</a>\u001b[0m loss \u001b[39m=\u001b[39m \u001b[39msum\u001b[39m(loss \u001b[39mfor\u001b[39;00m loss \u001b[39min\u001b[39;00m output\u001b[39m.\u001b[39mvalues())\n",
      "File \u001b[0;32m~/myvenv/lib/python3.10/site-packages/torch/nn/modules/module.py:1501\u001b[0m, in \u001b[0;36mModule._call_impl\u001b[0;34m(self, *args, **kwargs)\u001b[0m\n\u001b[1;32m   1496\u001b[0m \u001b[39m# If we don't have any hooks, we want to skip the rest of the logic in\u001b[39;00m\n\u001b[1;32m   1497\u001b[0m \u001b[39m# this function, and just call forward.\u001b[39;00m\n\u001b[1;32m   1498\u001b[0m \u001b[39mif\u001b[39;00m \u001b[39mnot\u001b[39;00m (\u001b[39mself\u001b[39m\u001b[39m.\u001b[39m_backward_hooks \u001b[39mor\u001b[39;00m \u001b[39mself\u001b[39m\u001b[39m.\u001b[39m_backward_pre_hooks \u001b[39mor\u001b[39;00m \u001b[39mself\u001b[39m\u001b[39m.\u001b[39m_forward_hooks \u001b[39mor\u001b[39;00m \u001b[39mself\u001b[39m\u001b[39m.\u001b[39m_forward_pre_hooks\n\u001b[1;32m   1499\u001b[0m         \u001b[39mor\u001b[39;00m _global_backward_pre_hooks \u001b[39mor\u001b[39;00m _global_backward_hooks\n\u001b[1;32m   1500\u001b[0m         \u001b[39mor\u001b[39;00m _global_forward_hooks \u001b[39mor\u001b[39;00m _global_forward_pre_hooks):\n\u001b[0;32m-> 1501\u001b[0m     \u001b[39mreturn\u001b[39;00m forward_call(\u001b[39m*\u001b[39;49margs, \u001b[39m*\u001b[39;49m\u001b[39m*\u001b[39;49mkwargs)\n\u001b[1;32m   1502\u001b[0m \u001b[39m# Do not call functions when jit is used\u001b[39;00m\n\u001b[1;32m   1503\u001b[0m full_backward_hooks, non_full_backward_hooks \u001b[39m=\u001b[39m [], []\n",
      "File \u001b[0;32m~/myvenv/lib/python3.10/site-packages/torchvision/models/detection/generalized_rcnn.py:83\u001b[0m, in \u001b[0;36mGeneralizedRCNN.forward\u001b[0;34m(self, images, targets)\u001b[0m\n\u001b[1;32m     77\u001b[0m     torch\u001b[39m.\u001b[39m_assert(\n\u001b[1;32m     78\u001b[0m         \u001b[39mlen\u001b[39m(val) \u001b[39m==\u001b[39m \u001b[39m2\u001b[39m,\n\u001b[1;32m     79\u001b[0m         \u001b[39mf\u001b[39m\u001b[39m\"\u001b[39m\u001b[39mexpecting the last two dimensions of the Tensor to be H and W instead got \u001b[39m\u001b[39m{\u001b[39;00mimg\u001b[39m.\u001b[39mshape[\u001b[39m-\u001b[39m\u001b[39m2\u001b[39m:]\u001b[39m}\u001b[39;00m\u001b[39m\"\u001b[39m,\n\u001b[1;32m     80\u001b[0m     )\n\u001b[1;32m     81\u001b[0m     original_image_sizes\u001b[39m.\u001b[39mappend((val[\u001b[39m0\u001b[39m], val[\u001b[39m1\u001b[39m]))\n\u001b[0;32m---> 83\u001b[0m images, targets \u001b[39m=\u001b[39m \u001b[39mself\u001b[39;49m\u001b[39m.\u001b[39;49mtransform(images, targets)\n\u001b[1;32m     85\u001b[0m \u001b[39m# Check for degenerate boxes\u001b[39;00m\n\u001b[1;32m     86\u001b[0m \u001b[39m# TODO: Move this to a function\u001b[39;00m\n\u001b[1;32m     87\u001b[0m \u001b[39mif\u001b[39;00m targets \u001b[39mis\u001b[39;00m \u001b[39mnot\u001b[39;00m \u001b[39mNone\u001b[39;00m:\n",
      "File \u001b[0;32m~/myvenv/lib/python3.10/site-packages/torch/nn/modules/module.py:1501\u001b[0m, in \u001b[0;36mModule._call_impl\u001b[0;34m(self, *args, **kwargs)\u001b[0m\n\u001b[1;32m   1496\u001b[0m \u001b[39m# If we don't have any hooks, we want to skip the rest of the logic in\u001b[39;00m\n\u001b[1;32m   1497\u001b[0m \u001b[39m# this function, and just call forward.\u001b[39;00m\n\u001b[1;32m   1498\u001b[0m \u001b[39mif\u001b[39;00m \u001b[39mnot\u001b[39;00m (\u001b[39mself\u001b[39m\u001b[39m.\u001b[39m_backward_hooks \u001b[39mor\u001b[39;00m \u001b[39mself\u001b[39m\u001b[39m.\u001b[39m_backward_pre_hooks \u001b[39mor\u001b[39;00m \u001b[39mself\u001b[39m\u001b[39m.\u001b[39m_forward_hooks \u001b[39mor\u001b[39;00m \u001b[39mself\u001b[39m\u001b[39m.\u001b[39m_forward_pre_hooks\n\u001b[1;32m   1499\u001b[0m         \u001b[39mor\u001b[39;00m _global_backward_pre_hooks \u001b[39mor\u001b[39;00m _global_backward_hooks\n\u001b[1;32m   1500\u001b[0m         \u001b[39mor\u001b[39;00m _global_forward_hooks \u001b[39mor\u001b[39;00m _global_forward_pre_hooks):\n\u001b[0;32m-> 1501\u001b[0m     \u001b[39mreturn\u001b[39;00m forward_call(\u001b[39m*\u001b[39;49margs, \u001b[39m*\u001b[39;49m\u001b[39m*\u001b[39;49mkwargs)\n\u001b[1;32m   1502\u001b[0m \u001b[39m# Do not call functions when jit is used\u001b[39;00m\n\u001b[1;32m   1503\u001b[0m full_backward_hooks, non_full_backward_hooks \u001b[39m=\u001b[39m [], []\n",
      "File \u001b[0;32m~/myvenv/lib/python3.10/site-packages/torchvision/models/detection/transform.py:119\u001b[0m, in \u001b[0;36mGeneralizedRCNNTransform.forward\u001b[0;34m(self, images, targets)\u001b[0m\n\u001b[1;32m    117\u001b[0m \u001b[39mfor\u001b[39;00m t \u001b[39min\u001b[39;00m targets:\n\u001b[1;32m    118\u001b[0m     data: Dict[\u001b[39mstr\u001b[39m, Tensor] \u001b[39m=\u001b[39m {}\n\u001b[0;32m--> 119\u001b[0m     \u001b[39mfor\u001b[39;00m k, v \u001b[39min\u001b[39;00m t\u001b[39m.\u001b[39;49mitems():\n\u001b[1;32m    120\u001b[0m         data[k] \u001b[39m=\u001b[39m v\n\u001b[1;32m    121\u001b[0m     targets_copy\u001b[39m.\u001b[39mappend(data)\n",
      "\u001b[0;31mAttributeError\u001b[0m: 'str' object has no attribute 'items'"
     ]
    }
   ],
   "source": [
    "for epoch in range(num_epochs):\n",
    "    running_loss = 0.0\n",
    "    \n",
    "    # Train loop\n",
    "    for images, targets in train_loader:\n",
    "        print(f\"Data [Batch/{len(train_loader)}]\")\n",
    "        \n",
    "        print(f\"Type of targets: {type(targets)}\")\n",
    "        print(f\"Length of targets: {len(targets)}\")\n",
    "        if isinstance(targets, dict):\n",
    "            print(\"Targets is a dictionary\")\n",
    "            for key, value in targets.items():\n",
    "                print(f\"Target {key} Shape: {value.shape}\")\n",
    "\n",
    "        optimizer.zero_grad()\n",
    "        output = model(images, targets)\n",
    "        \n",
    "        # Backpropagation and optimization\n",
    "        loss = sum(loss for loss in output.values())\n",
    "        loss.backward()\n",
    "        optimizer.step()\n",
    "        \n",
    "        running_loss += loss.item()\n",
    "    \n",
    "    # Print average loss for each epoch\n",
    "    print(f\"Epoch [{epoch + 1}/{num_epochs}] - Loss: {running_loss / len(train_loader):.4f}\")\n"
   ]
  },
  {
   "cell_type": "code",
   "execution_count": 47,
   "metadata": {},
   "outputs": [],
   "source": [
    "torch.save(model, 'modely_zadanie4/faster_rcnn_model.pth')"
   ]
  },
  {
   "cell_type": "code",
   "execution_count": 51,
   "metadata": {},
   "outputs": [
    {
     "name": "stdout",
     "output_type": "stream",
     "text": [
      "100\n",
      "0\n",
      "[tensor(0), tensor(0), tensor(0), tensor(0), tensor(0), tensor(0), tensor(0), tensor(0), tensor(0), tensor(0), tensor(0), tensor(0), tensor(0), tensor(0), tensor(0), tensor(0), tensor(0), tensor(0), tensor(0), tensor(0), tensor(0), tensor(0), tensor(0), tensor(0), tensor(0), tensor(0), tensor(0), tensor(0), tensor(0), tensor(0), tensor(0), tensor(0), tensor(0), tensor(0), tensor(0), tensor(0), tensor(0), tensor(0), tensor(0), tensor(0), tensor(0), tensor(0), tensor(0), tensor(0), tensor(0), tensor(0), tensor(0), tensor(0), tensor(0), tensor(0), tensor(0), tensor(0), tensor(0), tensor(0), tensor(0), tensor(0), tensor(0), tensor(0), tensor(0), tensor(0), tensor(0), tensor(0), tensor(0), tensor(0), tensor(0), tensor(0), tensor(0), tensor(0), tensor(0), tensor(0), tensor(0), tensor(0), tensor(0), tensor(0), tensor(0), tensor(0), tensor(0), tensor(0), tensor(0), tensor(0), tensor(0), tensor(0), tensor(0), tensor(0), tensor(0), tensor(0), tensor(0), tensor(0), tensor(0), tensor(0), tensor(0), tensor(0), tensor(0), tensor(0), tensor(0), tensor(0), tensor(0), tensor(0), tensor(0), tensor(0)]\n",
      "[]\n"
     ]
    },
    {
     "ename": "ValueError",
     "evalue": "Found input variables with inconsistent numbers of samples: [100, 0]",
     "output_type": "error",
     "traceback": [
      "\u001b[0;31m---------------------------------------------------------------------------\u001b[0m",
      "\u001b[0;31mValueError\u001b[0m                                Traceback (most recent call last)",
      "\u001b[1;32m/home/matus/HNS/Zadanie_1/zadanie4.ipynb Cell 12\u001b[0m line \u001b[0;36m4\n\u001b[1;32m     <a href='vscode-notebook-cell:/home/matus/HNS/Zadanie_1/zadanie4.ipynb#X36sZmlsZQ%3D%3D?line=35'>36</a>\u001b[0m \u001b[39mprint\u001b[39m(flat_predicted_labels)\n\u001b[1;32m     <a href='vscode-notebook-cell:/home/matus/HNS/Zadanie_1/zadanie4.ipynb#X36sZmlsZQ%3D%3D?line=38'>39</a>\u001b[0m \u001b[39m# Convert the box tensors and label tensors to lists or arrays\u001b[39;00m\n\u001b[1;32m     <a href='vscode-notebook-cell:/home/matus/HNS/Zadanie_1/zadanie4.ipynb#X36sZmlsZQ%3D%3D?line=39'>40</a>\u001b[0m \u001b[39m# Then compute the confusion matrix\u001b[39;00m\n\u001b[0;32m---> <a href='vscode-notebook-cell:/home/matus/HNS/Zadanie_1/zadanie4.ipynb#X36sZmlsZQ%3D%3D?line=40'>41</a>\u001b[0m conf_matrix \u001b[39m=\u001b[39m confusion_matrix(flat_ground_truth_labels, flat_predicted_labels)\n\u001b[1;32m     <a href='vscode-notebook-cell:/home/matus/HNS/Zadanie_1/zadanie4.ipynb#X36sZmlsZQ%3D%3D?line=41'>42</a>\u001b[0m \u001b[39mprint\u001b[39m(conf_matrix)\n",
      "File \u001b[0;32m~/myvenv/lib/python3.10/site-packages/sklearn/utils/_param_validation.py:211\u001b[0m, in \u001b[0;36mvalidate_params.<locals>.decorator.<locals>.wrapper\u001b[0;34m(*args, **kwargs)\u001b[0m\n\u001b[1;32m    205\u001b[0m \u001b[39mtry\u001b[39;00m:\n\u001b[1;32m    206\u001b[0m     \u001b[39mwith\u001b[39;00m config_context(\n\u001b[1;32m    207\u001b[0m         skip_parameter_validation\u001b[39m=\u001b[39m(\n\u001b[1;32m    208\u001b[0m             prefer_skip_nested_validation \u001b[39mor\u001b[39;00m global_skip_validation\n\u001b[1;32m    209\u001b[0m         )\n\u001b[1;32m    210\u001b[0m     ):\n\u001b[0;32m--> 211\u001b[0m         \u001b[39mreturn\u001b[39;00m func(\u001b[39m*\u001b[39;49margs, \u001b[39m*\u001b[39;49m\u001b[39m*\u001b[39;49mkwargs)\n\u001b[1;32m    212\u001b[0m \u001b[39mexcept\u001b[39;00m InvalidParameterError \u001b[39mas\u001b[39;00m e:\n\u001b[1;32m    213\u001b[0m     \u001b[39m# When the function is just a wrapper around an estimator, we allow\u001b[39;00m\n\u001b[1;32m    214\u001b[0m     \u001b[39m# the function to delegate validation to the estimator, but we replace\u001b[39;00m\n\u001b[1;32m    215\u001b[0m     \u001b[39m# the name of the estimator by the name of the function in the error\u001b[39;00m\n\u001b[1;32m    216\u001b[0m     \u001b[39m# message to avoid confusion.\u001b[39;00m\n\u001b[1;32m    217\u001b[0m     msg \u001b[39m=\u001b[39m re\u001b[39m.\u001b[39msub(\n\u001b[1;32m    218\u001b[0m         \u001b[39mr\u001b[39m\u001b[39m\"\u001b[39m\u001b[39mparameter of \u001b[39m\u001b[39m\\\u001b[39m\u001b[39mw+ must be\u001b[39m\u001b[39m\"\u001b[39m,\n\u001b[1;32m    219\u001b[0m         \u001b[39mf\u001b[39m\u001b[39m\"\u001b[39m\u001b[39mparameter of \u001b[39m\u001b[39m{\u001b[39;00mfunc\u001b[39m.\u001b[39m\u001b[39m__qualname__\u001b[39m\u001b[39m}\u001b[39;00m\u001b[39m must be\u001b[39m\u001b[39m\"\u001b[39m,\n\u001b[1;32m    220\u001b[0m         \u001b[39mstr\u001b[39m(e),\n\u001b[1;32m    221\u001b[0m     )\n",
      "File \u001b[0;32m~/myvenv/lib/python3.10/site-packages/sklearn/metrics/_classification.py:326\u001b[0m, in \u001b[0;36mconfusion_matrix\u001b[0;34m(y_true, y_pred, labels, sample_weight, normalize)\u001b[0m\n\u001b[1;32m    231\u001b[0m \u001b[39m@validate_params\u001b[39m(\n\u001b[1;32m    232\u001b[0m     {\n\u001b[1;32m    233\u001b[0m         \u001b[39m\"\u001b[39m\u001b[39my_true\u001b[39m\u001b[39m\"\u001b[39m: [\u001b[39m\"\u001b[39m\u001b[39marray-like\u001b[39m\u001b[39m\"\u001b[39m],\n\u001b[0;32m   (...)\u001b[0m\n\u001b[1;32m    242\u001b[0m     y_true, y_pred, \u001b[39m*\u001b[39m, labels\u001b[39m=\u001b[39m\u001b[39mNone\u001b[39;00m, sample_weight\u001b[39m=\u001b[39m\u001b[39mNone\u001b[39;00m, normalize\u001b[39m=\u001b[39m\u001b[39mNone\u001b[39;00m\n\u001b[1;32m    243\u001b[0m ):\n\u001b[1;32m    244\u001b[0m \u001b[39m    \u001b[39m\u001b[39m\"\"\"Compute confusion matrix to evaluate the accuracy of a classification.\u001b[39;00m\n\u001b[1;32m    245\u001b[0m \n\u001b[1;32m    246\u001b[0m \u001b[39m    By definition a confusion matrix :math:`C` is such that :math:`C_{i, j}`\u001b[39;00m\n\u001b[0;32m   (...)\u001b[0m\n\u001b[1;32m    324\u001b[0m \u001b[39m    (0, 2, 1, 1)\u001b[39;00m\n\u001b[1;32m    325\u001b[0m \u001b[39m    \"\"\"\u001b[39;00m\n\u001b[0;32m--> 326\u001b[0m     y_type, y_true, y_pred \u001b[39m=\u001b[39m _check_targets(y_true, y_pred)\n\u001b[1;32m    327\u001b[0m     \u001b[39mif\u001b[39;00m y_type \u001b[39mnot\u001b[39;00m \u001b[39min\u001b[39;00m (\u001b[39m\"\u001b[39m\u001b[39mbinary\u001b[39m\u001b[39m\"\u001b[39m, \u001b[39m\"\u001b[39m\u001b[39mmulticlass\u001b[39m\u001b[39m\"\u001b[39m):\n\u001b[1;32m    328\u001b[0m         \u001b[39mraise\u001b[39;00m \u001b[39mValueError\u001b[39;00m(\u001b[39m\"\u001b[39m\u001b[39m%s\u001b[39;00m\u001b[39m is not supported\u001b[39m\u001b[39m\"\u001b[39m \u001b[39m%\u001b[39m y_type)\n",
      "File \u001b[0;32m~/myvenv/lib/python3.10/site-packages/sklearn/metrics/_classification.py:84\u001b[0m, in \u001b[0;36m_check_targets\u001b[0;34m(y_true, y_pred)\u001b[0m\n\u001b[1;32m     57\u001b[0m \u001b[39mdef\u001b[39;00m \u001b[39m_check_targets\u001b[39m(y_true, y_pred):\n\u001b[1;32m     58\u001b[0m \u001b[39m    \u001b[39m\u001b[39m\"\"\"Check that y_true and y_pred belong to the same classification task.\u001b[39;00m\n\u001b[1;32m     59\u001b[0m \n\u001b[1;32m     60\u001b[0m \u001b[39m    This converts multiclass or binary types to a common shape, and raises a\u001b[39;00m\n\u001b[0;32m   (...)\u001b[0m\n\u001b[1;32m     82\u001b[0m \u001b[39m    y_pred : array or indicator matrix\u001b[39;00m\n\u001b[1;32m     83\u001b[0m \u001b[39m    \"\"\"\u001b[39;00m\n\u001b[0;32m---> 84\u001b[0m     check_consistent_length(y_true, y_pred)\n\u001b[1;32m     85\u001b[0m     type_true \u001b[39m=\u001b[39m type_of_target(y_true, input_name\u001b[39m=\u001b[39m\u001b[39m\"\u001b[39m\u001b[39my_true\u001b[39m\u001b[39m\"\u001b[39m)\n\u001b[1;32m     86\u001b[0m     type_pred \u001b[39m=\u001b[39m type_of_target(y_pred, input_name\u001b[39m=\u001b[39m\u001b[39m\"\u001b[39m\u001b[39my_pred\u001b[39m\u001b[39m\"\u001b[39m)\n",
      "File \u001b[0;32m~/myvenv/lib/python3.10/site-packages/sklearn/utils/validation.py:407\u001b[0m, in \u001b[0;36mcheck_consistent_length\u001b[0;34m(*arrays)\u001b[0m\n\u001b[1;32m    405\u001b[0m uniques \u001b[39m=\u001b[39m np\u001b[39m.\u001b[39munique(lengths)\n\u001b[1;32m    406\u001b[0m \u001b[39mif\u001b[39;00m \u001b[39mlen\u001b[39m(uniques) \u001b[39m>\u001b[39m \u001b[39m1\u001b[39m:\n\u001b[0;32m--> 407\u001b[0m     \u001b[39mraise\u001b[39;00m \u001b[39mValueError\u001b[39;00m(\n\u001b[1;32m    408\u001b[0m         \u001b[39m\"\u001b[39m\u001b[39mFound input variables with inconsistent numbers of samples: \u001b[39m\u001b[39m%r\u001b[39;00m\u001b[39m\"\u001b[39m\n\u001b[1;32m    409\u001b[0m         \u001b[39m%\u001b[39m [\u001b[39mint\u001b[39m(l) \u001b[39mfor\u001b[39;00m l \u001b[39min\u001b[39;00m lengths]\n\u001b[1;32m    410\u001b[0m     )\n",
      "\u001b[0;31mValueError\u001b[0m: Found input variables with inconsistent numbers of samples: [100, 0]"
     ]
    }
   ],
   "source": [
    "from sklearn.metrics import confusion_matrix\n",
    "\n",
    "# Ground truth boxes and labels\n",
    "ground_truth_boxes = []\n",
    "ground_truth_labels = []\n",
    "\n",
    "# Predicted boxes and labels\n",
    "predicted_boxes = []\n",
    "predicted_labels = []\n",
    "\n",
    "# Iterate through the test dataset\n",
    "for idx in range(len(test_dataset)):\n",
    "    image, target = test_dataset[idx]\n",
    "    \n",
    "    # Ground truth\n",
    "    ground_truth_boxes.append(target['boxes'])\n",
    "    ground_truth_labels.append(target['labels'])\n",
    "    \n",
    "    # Predictions\n",
    "    with torch.no_grad():\n",
    "        output = model([image])\n",
    "    \n",
    "    # Assuming the model returns predicted boxes and labels\n",
    "    predicted_boxes.append(output[0]['boxes'])\n",
    "    predicted_labels.append(output[0]['labels'])\n",
    "\n",
    "# Flatten the lists of boxes and labels\n",
    "flat_ground_truth_boxes = [box for sublist in ground_truth_boxes for box in sublist]\n",
    "flat_ground_truth_labels = [label for sublist in ground_truth_labels for label in sublist]\n",
    "flat_predicted_boxes = [box for sublist in predicted_boxes for box in sublist]\n",
    "flat_predicted_labels = [label for sublist in predicted_labels for label in sublist]\n",
    "\n",
    "print(len(flat_ground_truth_labels))\n",
    "print(len(flat_predicted_labels))\n",
    "print(flat_ground_truth_labels)\n",
    "print(flat_predicted_labels)\n",
    "\n",
    "# Convert the box tensors and label tensors to lists or arrays\n",
    "# Then compute the confusion matrix\n",
    "conf_matrix = confusion_matrix(flat_ground_truth_labels, flat_predicted_labels)\n",
    "print(conf_matrix)"
   ]
  }
 ],
 "metadata": {
  "kernelspec": {
   "display_name": ".zadanie1_pismenka_venv",
   "language": "python",
   "name": "python3"
  },
  "language_info": {
   "codemirror_mode": {
    "name": "ipython",
    "version": 3
   },
   "file_extension": ".py",
   "mimetype": "text/x-python",
   "name": "python",
   "nbconvert_exporter": "python",
   "pygments_lexer": "ipython3",
   "version": "3.10.12"
  },
  "orig_nbformat": 4
 },
 "nbformat": 4,
 "nbformat_minor": 2
}
